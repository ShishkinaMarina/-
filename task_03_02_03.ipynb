{
  "nbformat": 4,
  "nbformat_minor": 0,
  "metadata": {
    "colab": {
      "name": "task_03_02_03",
      "provenance": []
    },
    "kernelspec": {
      "name": "python3",
      "display_name": "Python 3"
    },
    "language_info": {
      "name": "python"
    }
  },
  "cells": [
    {
      "cell_type": "code",
      "metadata": {
        "id": "fs6_c6NvUaTk"
      },
      "source": [
        "# Программирование на языке высокого уровня (Python).\n",
        "# https://www.yuripetrov.ru/edu/python\n",
        "# Задание task_03_02_03.\n",
        "#\n",
        "# Выполнил: Шишкина М.С.\n",
        "# Группа: АДЭУ-211\n",
        "# E-mail: way.02@bk.ru\n",
        "\n",
        "\n",
        "r1 = float(input('r1= '))\n",
        "r2 = float(input('r2= '))\n",
        "\n",
        "r = (r1 + r2)\n",
        "print (round(r,1))"
      ],
      "execution_count": null,
      "outputs": []
    }
  ]
}