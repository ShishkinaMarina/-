{
  "cells": [
    {
      "cell_type": "markdown",
      "metadata": {
        "id": "view-in-github",
        "colab_type": "text"
      },
      "source": [
        "<a href=\"https://colab.research.google.com/github/ShishkinaMarina/LAB/blob/main/02_1_shishkina_marina.ipynb\" target=\"_parent\"><img src=\"https://colab.research.google.com/assets/colab-badge.svg\" alt=\"Open In Colab\"/></a>"
      ]
    },
    {
      "cell_type": "markdown",
      "metadata": {
        "id": "k0j2Oi1iEhed"
      },
      "source": [
        "# Лабораторная работа 2-1"
      ]
    },
    {
      "cell_type": "markdown",
      "metadata": {
        "collapsed": true,
        "id": "ujiAyzR_Ehei"
      },
      "source": [
        "## 2.1.1: Множества\n",
        "\n",
        "Напишите функцию, которая находит пересечение двух множеств и печатает их.\n",
        "Инициализируйте два множества, например, значениями {13, 25, 37, 45, 13} и {14, 25, 38, 8, 45} и вызовите  функцию."
      ]
    },
    {
      "cell_type": "code",
      "execution_count": null,
      "metadata": {
        "colab": {
          "base_uri": "https://localhost:8080/"
        },
        "id": "Z9XB6hBQEhej",
        "outputId": "efe35d27-94b1-4577-deb1-d160e87578aa"
      },
      "outputs": [
        {
          "output_type": "stream",
          "name": "stdout",
          "text": [
            "Пересечение множеств: {25, 45}\n"
          ]
        }
      ],
      "source": [
        "def f(a, b):\n",
        "    intersection = a.intersection(b)\n",
        "    print(\"Пересечение множеств:\", intersection)\n",
        "\n",
        "a = {13, 25, 37, 45, 13}\n",
        "b = {14, 25, 38, 8, 45}\n",
        "\n",
        "f(a, b)"
      ]
    },
    {
      "cell_type": "markdown",
      "metadata": {
        "id": "QD6fHAU1Ehek"
      },
      "source": [
        "## 2.1.2: Dictionaries\n",
        "\n",
        "* Создайте словарь с двухбуквенными кодами двух федеральных округов России и полными названиями, например, ЦТ: \tЦентральный, ЮЖ: Южный.\n",
        "* После первоначального создания словаря добавьте в словарь еще два округа.\n",
        "* Создайте второй словарь, который сопоставляет коды федеральных округов России с массивом городов в этом округе, например, ЦТ: [Москва, Тверь, Химки, Мытищи].\n",
        "* Напишите функцию, которая принимает код федеральных округов, печатает полное название округа и выводит список городов в этом округе."
      ]
    },
    {
      "cell_type": "code",
      "execution_count": 109,
      "metadata": {
        "colab": {
          "base_uri": "https://localhost:8080/"
        },
        "id": "t5SDETkFEhel",
        "outputId": "b37dee5f-9927-49d1-cbbc-87e25f38ed9c"
      },
      "outputs": [
        {
          "output_type": "execute_result",
          "data": {
            "text/plain": [
              "{'ЦТ': 'Центральный', 'ЮЖ': 'Южный'}"
            ]
          },
          "metadata": {},
          "execution_count": 109
        }
      ],
      "source": [
        "#Создайте словарь с двухбуквенными кодами двух федеральных округов России и полными названиями, например, ЦТ: Центральный, ЮЖ: Южный.\n",
        "dist={'ЦТ':'Центральный','ЮЖ':'Южный'}\n",
        "dist"
      ]
    },
    {
      "cell_type": "code",
      "source": [
        "#После первоначального создания словаря добавьте в словарь еще два округа.\n",
        "dist[\"СЗ\"] = \"Северо-Западный\"\n",
        "dist[\"ПВ\"] = \"Приволжский\"\n",
        "dist"
      ],
      "metadata": {
        "colab": {
          "base_uri": "https://localhost:8080/"
        },
        "id": "Xobz2y5zHX2Z",
        "outputId": "915d9bf8-2ca5-44d1-cda3-d6c3ed358982"
      },
      "execution_count": 110,
      "outputs": [
        {
          "output_type": "execute_result",
          "data": {
            "text/plain": [
              "{'ЦТ': 'Центральный',\n",
              " 'ЮЖ': 'Южный',\n",
              " 'СЗ': 'Северо-Западный',\n",
              " 'ПВ': 'Приволжский'}"
            ]
          },
          "metadata": {},
          "execution_count": 110
        }
      ]
    },
    {
      "cell_type": "code",
      "source": [
        "#Создайте второй словарь, который сопоставляет коды федеральных округов России с массивом городов\n",
        "cities = {\n",
        "'ЦТ': ['Москва', 'Тверь', 'Химки', 'Мытищи'],\n",
        "'ЮЖ': ['Ростов-на-Дону', 'Краснодар', 'Волгоград'],\n",
        "'СЗ': ['Санкт-Петербург', 'Петрозаводск', 'Калининград'],\n",
        "'ПВ': ['Казань', 'Нижний Новгород', 'Уфа']\n",
        "}\n"
      ],
      "metadata": {
        "id": "HvesyHswIIxe"
      },
      "execution_count": 111,
      "outputs": []
    },
    {
      "cell_type": "code",
      "source": [
        "#Напишите функцию, которая принимает код федеральных округов, печатает полное название округа и выводит список городов в этом округе\n",
        "def f(code):\n",
        "  print(\"Полное название округа:\", dist[code])\n",
        "  print(\"Города в этом округе:\", cities[code])\n",
        "f('ПВ')"
      ],
      "metadata": {
        "colab": {
          "base_uri": "https://localhost:8080/"
        },
        "id": "sY49eRYuIejg",
        "outputId": "0c0c67cd-235e-4a73-bf69-08b904508eac"
      },
      "execution_count": 112,
      "outputs": [
        {
          "output_type": "stream",
          "name": "stdout",
          "text": [
            "Полное название округа: Приволжский\n",
            "Города в этом округе: ['Казань', 'Нижний Новгород', 'Уфа']\n"
          ]
        }
      ]
    },
    {
      "cell_type": "markdown",
      "metadata": {
        "id": "1L1wadmDEhel"
      },
      "source": [
        "## 2.1.3: Objects\n",
        "\n",
        "Создайте класс `Pet` с параметрами `name, pronoun, animal,` и `pet_response`.\n",
        "\n",
        "Добавьте метод `pet()`, который печатает ответ, состоящий из элементов, например:\n",
        "\n",
        "` Лейла — кошка. Если ее погладить, Лейла мурчит».`\n",
        "` Скаут — собака. Если его погладить, Скаут виляет хвостом.`"
      ]
    },
    {
      "cell_type": "code",
      "execution_count": 114,
      "metadata": {
        "id": "B4OF2HdfEhem",
        "colab": {
          "base_uri": "https://localhost:8080/"
        },
        "outputId": "2e9042fa-952e-4990-c335-25f02780480a"
      },
      "outputs": [
        {
          "output_type": "stream",
          "name": "stdout",
          "text": [
            "Лейла - кошка . Если ее погладить, Лейла мурчит\n",
            "Скаут - собака . Если его погладить, Скаут виляет хвостом\n"
          ]
        }
      ],
      "source": [
        "#Создайте класс Pet с параметрами name, pronoun, animal, и pet_response.\n",
        "class pet:\n",
        "  def __init__(self, name, pronoun, animal, pet_response):\n",
        "    self.name = name\n",
        "    self.pronoun = pronoun\n",
        "    self.animal = animal\n",
        "    self.pet_response = pet_response\n",
        "\n",
        "#Добавьте метод pet(), который печатает ответ, состоящий из элементов, например:\n",
        "#Лейла — кошка. Если ее погладить, Лейла мурчит». Скаут — собака. Если его погладить, Скаут виляет хвостом.\n",
        "  def print_pet(self):\n",
        "    print(self.name,'-', self.animal,'. Если', self.pronoun, 'погладить,', self.name, self.pet_response)\n",
        "\n",
        "layla = pet(\"Лейла\", \"ее\", \"кошка\", \"мурчит\")\n",
        "scout = pet(\"Скаут\", \"его\", \"собака\", \"виляет хвостом\")\n",
        "\n",
        "layla.print_pet()\n",
        "scout.print_pet()"
      ]
    },
    {
      "cell_type": "markdown",
      "metadata": {
        "collapsed": true,
        "id": "TNnM6LLlEheo"
      },
      "source": [
        "## 2.1.4: Pandas Series"
      ]
    },
    {
      "cell_type": "markdown",
      "metadata": {
        "id": "sbvLoMLTEhep"
      },
      "source": [
        "Создайте `pandas series`, используя приведенные ниже списки, содержащие названия команд [Российской премьер-лиги](https://ru.wikipedia.org/wiki/%D0%A0%D0%BE%D1%81%D1%81%D0%B8%D0%B9%D1%81%D0%BA%D0%B0%D1%8F_%D0%BF%D1%80%D0%B5%D0%BC%D1%8C%D0%B5%D1%80-%D0%BB%D0%B8%D0%B3%D0%B0) и количество выигранных ими кубка премьер-лиги. Используйте имена как индексы, а победы как данные.\n",
        "\n",
        "  * После создания списка отсортируйте данные в алфавитном порядке по индексу.\n",
        "  * Распечатать обзор статистических свойств ряда. Каково среднее количество побед?\n",
        "  * Отфильтровать все команды, выигравшие менее четырех кубков премьер-лиги.\n",
        "  * В футбольной команде 11 игроков. Обновите данные, чтобы вместо количества чемпионатов,  отражалось количество побед.\n",
        "  * Предположим, что каждая  победа приносила 50 000 долларов США. Обновите данные, чтобы они содержали строку суммы в долларах, включая знак \\$. Например, для `Локомотив` это будет соответствовать:\n",
        "  ```\n",
        "  Тренер Юрий Сёмин  Локомотив $ 600000\n",
        "  ```"
      ]
    },
    {
      "cell_type": "code",
      "execution_count": 74,
      "metadata": {
        "id": "5p9cbe1TEheq"
      },
      "outputs": [],
      "source": [
        "import pandas as pd"
      ]
    },
    {
      "cell_type": "code",
      "execution_count": 82,
      "metadata": {
        "id": "3AM_IbL2Ehep"
      },
      "outputs": [],
      "source": [
        "#Создайте pandas series, используя приведенные ниже списки, содержащие названия команд Российской премьер-лиги и количество\n",
        "#выигранных ими кубка премьер-лиги. Используйте имена как индексы, а победы как данные.\n",
        "teams = [\"Юрий Сёмин («Локомотив»)\",\n",
        "         \"Олег Романцев («Спартак»)\",\n",
        "         \"Сергей Семак («Зенит»)\",\n",
        "         \"Валерий Газзаев («Спартак-Алания»)\",\n",
        "         \"Леонид Слуцкий (ЦСКА)\",\n",
        "         \"Курбан Бердыев («Рубин»)\",\n",
        "         \"Лучано Спаллетти («Зенит»)\",\n",
        "         \"Андре Виллаш-Боаш («Зенит»)\",\n",
        "         \"Дик Адвокат («Зенит»)\",\n",
        "         \"Массимо Каррера («Спартак»)\",\n",
        "         \"Зико (ЦСКА)\",\n",
        "         \"Георгий Ярцев («Спартак»)\"]\n",
        "wins = [12,11,10,10,7,5,4,3,2,2,1,1]\n",
        "\n",
        "pd=pd.Series(wins, index=teams, name='Победы в Премьер-лиге')\n",
        "pd"
      ]
    },
    {
      "cell_type": "code",
      "source": [
        "#После создания списка отсортируйте данные в алфавитном порядке по индексу.\n",
        "pd = pd.sort_index()\n",
        "pd.head()"
      ],
      "metadata": {
        "colab": {
          "base_uri": "https://localhost:8080/"
        },
        "id": "Q6dNE_NcTfEJ",
        "outputId": "5f9b20bd-3256-49ea-ad51-a1a89b93f442"
      },
      "execution_count": 115,
      "outputs": [
        {
          "output_type": "execute_result",
          "data": {
            "text/plain": [
              "Андре Виллаш-Боаш («Зенит»)            3\n",
              "Валерий Газзаев («Спартак-Алания»)    10\n",
              "Георгий Ярцев («Спартак»)              1\n",
              "Дик Адвокат («Зенит»)                  2\n",
              "Зико (ЦСКА)                            1\n",
              "Name: Победы в Премьер-лиге, dtype: int64"
            ]
          },
          "metadata": {},
          "execution_count": 115
        }
      ]
    },
    {
      "cell_type": "code",
      "source": [
        "#Распечатать обзор статистических свойств ряда. Каково среднее количество побед?\n",
        "print(pd.describe())\n",
        "\n",
        "#среднее количество побед - 5,67"
      ],
      "metadata": {
        "colab": {
          "base_uri": "https://localhost:8080/"
        },
        "id": "jRCE4pptSjq-",
        "outputId": "e310cad2-a206-4876-bcfa-406f55012acb"
      },
      "execution_count": 116,
      "outputs": [
        {
          "output_type": "stream",
          "name": "stdout",
          "text": [
            "count    12.000000\n",
            "mean      5.666667\n",
            "std       4.141439\n",
            "min       1.000000\n",
            "25%       2.000000\n",
            "50%       4.500000\n",
            "75%      10.000000\n",
            "max      12.000000\n",
            "Name: Победы в Премьер-лиге, dtype: float64\n"
          ]
        }
      ]
    },
    {
      "cell_type": "code",
      "source": [
        "#Отфильтровать все команды, выигравшие менее четырех кубков премьер-лиги.\n",
        "filter=pd[pd < 4]\n",
        "print(filter)"
      ],
      "metadata": {
        "colab": {
          "base_uri": "https://localhost:8080/"
        },
        "id": "Oz1HMZUXT_yb",
        "outputId": "057afdad-07d7-4944-f1a8-63ecabb4ac19"
      },
      "execution_count": 117,
      "outputs": [
        {
          "output_type": "stream",
          "name": "stdout",
          "text": [
            "Андре Виллаш-Боаш («Зенит»)    3\n",
            "Георгий Ярцев («Спартак»)      1\n",
            "Дик Адвокат («Зенит»)          2\n",
            "Зико (ЦСКА)                    1\n",
            "Массимо Каррера («Спартак»)    2\n",
            "Name: Победы в Премьер-лиге, dtype: int64\n"
          ]
        }
      ]
    },
    {
      "cell_type": "code",
      "source": [
        "#В футбольной команде 11 игроков. Обновите данные, чтобы вместо количества чемпионатов, отражалось количество побед.\n",
        "\n",
        "#в таблице и так отражается количество побед?"
      ],
      "metadata": {
        "id": "IeCWWSzAVQ_P"
      },
      "execution_count": null,
      "outputs": []
    },
    {
      "cell_type": "code",
      "source": [
        "#Предположим, что каждая победа приносила 50 000 долларов США.\n",
        "#Обновите данные, чтобы они содержали строку суммы в долларах, включая знак $. Например, для Локомотив это будет соответствовать:\n",
        "#Тренер Юрий Сёмин  Локомотив $ 600000\n",
        "pd_dollars=pd*50000"
      ],
      "metadata": {
        "id": "wDlPhW0yVtOB"
      },
      "execution_count": 118,
      "outputs": []
    },
    {
      "cell_type": "code",
      "source": [
        "def toDollars(pd_dollars):\n",
        "  return \"$ \" + str(pd_dollars)\n",
        "\n",
        "pd_dollars = pd_dollars.apply(toDollars)\n",
        "\n",
        "pd_dollars"
      ],
      "metadata": {
        "colab": {
          "base_uri": "https://localhost:8080/"
        },
        "id": "ei7tEIUwYXsr",
        "outputId": "7a190f9d-484e-4e6b-e9d8-c53459804e22"
      },
      "execution_count": 119,
      "outputs": [
        {
          "output_type": "execute_result",
          "data": {
            "text/plain": [
              "Андре Виллаш-Боаш («Зенит»)           $ 150000\n",
              "Валерий Газзаев («Спартак-Алания»)    $ 500000\n",
              "Георгий Ярцев («Спартак»)              $ 50000\n",
              "Дик Адвокат («Зенит»)                 $ 100000\n",
              "Зико (ЦСКА)                            $ 50000\n",
              "Курбан Бердыев («Рубин»)              $ 250000\n",
              "Леонид Слуцкий (ЦСКА)                 $ 350000\n",
              "Лучано Спаллетти («Зенит»)            $ 200000\n",
              "Массимо Каррера («Спартак»)           $ 100000\n",
              "Олег Романцев («Спартак»)             $ 550000\n",
              "Сергей Семак («Зенит»)                $ 500000\n",
              "Юрий Сёмин («Локомотив»)              $ 600000\n",
              "Name: Победы в Премьер-лиге, dtype: object"
            ]
          },
          "metadata": {},
          "execution_count": 119
        }
      ]
    }
  ],
  "metadata": {
    "anaconda-cloud": {},
    "kernelspec": {
      "display_name": "Python 3",
      "language": "python",
      "name": "python3"
    },
    "language_info": {
      "codemirror_mode": {
        "name": "ipython",
        "version": 3
      },
      "file_extension": ".py",
      "mimetype": "text/x-python",
      "name": "python",
      "nbconvert_exporter": "python",
      "pygments_lexer": "ipython3",
      "version": "3.9.13"
    },
    "colab": {
      "provenance": [],
      "include_colab_link": true
    }
  },
  "nbformat": 4,
  "nbformat_minor": 0
}