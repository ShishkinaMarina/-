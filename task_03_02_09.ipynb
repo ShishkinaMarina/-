{
  "nbformat": 4,
  "nbformat_minor": 0,
  "metadata": {
    "colab": {
      "name": "task_03_02_09",
      "provenance": []
    },
    "kernelspec": {
      "name": "python3",
      "display_name": "Python 3"
    },
    "language_info": {
      "name": "python"
    }
  },
  "cells": [
    {
      "cell_type": "code",
      "metadata": {
        "colab": {
          "base_uri": "https://localhost:8080/"
        },
        "id": "2ZzlGSqeVl41",
        "outputId": "2582eca9-c3e7-4305-aea8-2be3857931eb"
      },
      "source": [
        "# Программирование на языке высокого уровня (Python).\n",
        "# https://www.yuripetrov.ru/edu/python\n",
        "# Задание task_03_02_09.\n",
        "#\n",
        "# Выполнил: Шишкина М.С.\n",
        "# Группа: АДЭУ-211\n",
        "# E-mail: way.02@bk.ru\n",
        "\n",
        "\n",
        "word = \"объектно-ориентированный\"\n",
        "\n",
        "w1 = word[:6]\n",
        "w2 = word [9:17]\n",
        "w3 = word [14:17]\n",
        "w4 = word [4:15:5]\n",
        "\n",
        "print(w1, w2, w3, w4, sep=\"\\n\")"
      ],
      "execution_count": null,
      "outputs": [
        {
          "output_type": "stream",
          "name": "stdout",
          "text": [
            "объект\n",
            "ориентир\n",
            "тир\n",
            "кот\n"
          ]
        }
      ]
    }
  ]
}