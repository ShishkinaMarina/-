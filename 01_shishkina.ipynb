{
  "cells": [
    {
      "cell_type": "markdown",
      "metadata": {
        "id": "view-in-github",
        "colab_type": "text"
      },
      "source": [
        "<a href=\"https://colab.research.google.com/github/ShishkinaMarina/LAB/blob/main/01_shishkina.ipynb\" target=\"_parent\"><img src=\"https://colab.research.google.com/assets/colab-badge.svg\" alt=\"Open In Colab\"/></a>"
      ]
    },
    {
      "cell_type": "markdown",
      "metadata": {
        "id": "Jyrf8xk3k6Ys"
      },
      "source": [
        "# Лабораторная работа к лекции 1\n",
        "Ваше имя:\n",
        "\n",
        "Ваш адрес электронной почты:"
      ]
    },
    {
      "cell_type": "markdown",
      "metadata": {
        "id": "86N7viRzk6Yt"
      },
      "source": [
        "## Упражнение 1.1. Типы данных и операции\n",
        "1. Определите две переменные и присвойте первой целое число, а второй — число с плавающей запятой. Определите новую переменную и присвойте сумму двух предыдущих переменных. Каков тип данных третьей переменной?\n",
        "2. Переназначьте переменную с другим типом данных, например, возьмите одну из числовых переменных и присвойте ей строку. Какой новый тип данных?\n",
        "3. Посмотрите, что произойдет, если вы попытаетесь добавить строку к строке.\n",
        "4. Посмотрите, что произойдет, если вы добавите строку к числу с плавающей запятой или целому числу."
      ]
    },
    {
      "cell_type": "code",
      "execution_count": null,
      "metadata": {
        "id": "9ZgZCUPNk6Yt"
      },
      "outputs": [],
      "source": [
        "a = 10\n",
        "b = 10.5\n",
        "\n",
        "c = a + b\n",
        "\n",
        "print(type(c))"
      ]
    },
    {
      "cell_type": "code",
      "source": [
        "a = 'Hello, world!'\n",
        "\n",
        "print(type(a))"
      ],
      "metadata": {
        "id": "7Dc9-BA3GeWt"
      },
      "execution_count": null,
      "outputs": []
    },
    {
      "cell_type": "code",
      "source": [
        "a = 'Hello, '\n",
        "b = 'world!'\n",
        "\n",
        "c = a + b\n",
        "\n",
        "print(c)\n",
        "print(type(c))"
      ],
      "metadata": {
        "id": "P1KxRyVFHMAw"
      },
      "execution_count": null,
      "outputs": []
    },
    {
      "cell_type": "code",
      "source": [
        "a = 10\n",
        "b = 10.5\n",
        "\n",
        "str = 'Hello, world!'\n",
        "\n",
        "c = a + str\n",
        "d = b + str\n",
        "\n",
        "print(c)\n",
        "print(d)\n",
        "\n",
        "#код выдает ошибку"
      ],
      "metadata": {
        "id": "pyWpZnhUHeyb"
      },
      "execution_count": null,
      "outputs": []
    },
    {
      "cell_type": "markdown",
      "metadata": {
        "id": "ZMoobyT-k6Yu"
      },
      "source": [
        "## Упражнение 1.2. Запуск программ\n",
        "\n",
        "  * Создайте новый файл Python(или файл с расширением `.ipynb`) и используйте функцию `double_number` в качестве шаблона. Измените код, чтобы добавить два числа вместо удвоения одного числа.\n",
        "  * Можете ли вы догадаться, что произойдет, если изменить отступ? Выполните данное действие.\n",
        "  * Попробуйте, что произойдет, если вы напечатаете `a` в самом конце программы. Пояснить, что происходит?\n",
        " [Текст ссылки](https://)"
      ]
    },
    {
      "cell_type": "markdown",
      "metadata": {
        "id": "15GtjpzGk6Yu"
      },
      "source": [
        "## Упражнение 1.3. Создание ячеек, выполнение кода\n",
        "\n",
        "1. Создайте новую ячейку кода ниже, где вы определите переменные, содержащие ваше имя, ваш возраст  и вашу специальность.\n",
        "2. Создайте еще одну ячейку, использующую эти переменные, и выведите объединенную строку с указанием вашего имени, специальности и возраста в годах, месяцах и днях (при условии, что сегодня ваш день рождения). Вывод должен выглядеть так:\n",
        "\n",
        "```\n",
        "Имя: Кот-ученый, Специальность: Бизнес-Информатика, Возраст: 18 лет, или 216 месяцев, или 6480 дней..\n",
        "```"
      ]
    },
    {
      "cell_type": "code",
      "source": [
        "name = 'Марина'\n",
        "degree = 'Бизнес-Информатика'\n",
        "age = 21\n",
        "months = age*12\n",
        "days = age*365"
      ],
      "metadata": {
        "id": "JmOgqZ7yI5XR"
      },
      "execution_count": 47,
      "outputs": []
    },
    {
      "cell_type": "code",
      "source": [
        "print('Имя: ',name, \", Специальность:\", degree, \", Возраст:\", age, 'год, или', months, 'месяца, или', days, \"дней...\")"
      ],
      "metadata": {
        "colab": {
          "base_uri": "https://localhost:8080/"
        },
        "id": "-Xxr2KKZO6j6",
        "outputId": "57a80321-cc40-4f8e-9916-7372125d2ec2"
      },
      "execution_count": 55,
      "outputs": [
        {
          "output_type": "stream",
          "name": "stdout",
          "text": [
            "Имя:  Марина , Специальность: Бизнес-Информатика , Возраст: 21 год, или 252 месяца, или 7665 дней...\n"
          ]
        }
      ]
    },
    {
      "cell_type": "markdown",
      "metadata": {
        "id": "bPTBzjXhk6Yu"
      },
      "source": [
        "## Упражнение 1.4: Функции\n",
        "Напишите функцию, которая\n",
        "  * принимает две числовые переменные\n",
        "  * умножает их друг на друга\n",
        "  * делит их на числовую переменную, определенную в области видимости вне функции\n",
        "  * и возвращает результат.\n",
        "\n",
        "Выведите результат функции для трех разных наборов входных переменных."
      ]
    },
    {
      "cell_type": "code",
      "execution_count": 57,
      "metadata": {
        "id": "z7DKIUQCk6Yu",
        "colab": {
          "base_uri": "https://localhost:8080/"
        },
        "outputId": "d4a3bce4-ca6d-4c95-c4c9-bba42e6afdc3"
      },
      "outputs": [
        {
          "output_type": "stream",
          "name": "stdout",
          "text": [
            "40.0\n",
            "5.0\n",
            "18.0\n"
          ]
        }
      ],
      "source": [
        "def x(a, b):\n",
        "    c = 5\n",
        "    result = (a * b) / c\n",
        "    return result\n",
        "\n",
        "print(x(10, 20))\n",
        "print(x(5, 5))\n",
        "print(x(30, 3))\n"
      ]
    },
    {
      "cell_type": "markdown",
      "metadata": {
        "id": "xOOURJmBaRyA"
      },
      "source": [
        "## Упражнение 1.5*\n",
        "\n",
        "Есть некоторые данные о количестве книг, прочитанных разными людьми, работающими в книжном магазине Владимира. Создайте код Python, который учитывает каждого человека и выводит, сколько книг он прочитал. Если кто-то прочитал 0 книг, выведите «___ не читал ни одной книги!» вместо количества книг."
      ]
    },
    {
      "cell_type": "code",
      "execution_count": 66,
      "metadata": {
        "id": "adPmaDVpaRyB"
      },
      "outputs": [],
      "source": [
        "people = ['Krishnang', 'Steve', 'Jimmy', 'Mary', 'Divya', 'Robert', 'Yulia']\n",
        "books_read = [12, 6, 0, 7, 4, 10, 15]"
      ]
    },
    {
      "cell_type": "code",
      "source": [
        "for person, books in zip(people, books_read):\n",
        "    if books == 0:\n",
        "        print(f'{person} не читал ни одной книги!')\n",
        "    else:\n",
        "        print(f'{person} прочитал {books} книг')\n"
      ],
      "metadata": {
        "colab": {
          "base_uri": "https://localhost:8080/"
        },
        "id": "mLNdckE6VPJr",
        "outputId": "37c898a7-4c1f-482b-ac7d-62844d26b03e"
      },
      "execution_count": 67,
      "outputs": [
        {
          "output_type": "stream",
          "name": "stdout",
          "text": [
            "Krishnang прочитал 12 книг\n",
            "Steve прочитал 6 книг\n",
            "Jimmy не читал ни одной книги!\n",
            "Mary прочитал 7 книг\n",
            "Divya прочитал 4 книг\n",
            "Robert прочитал 10 книг\n",
            "Yulia прочитал 15 книг\n"
          ]
        }
      ]
    },
    {
      "cell_type": "markdown",
      "metadata": {
        "id": "o2p3Cz5VaRyB"
      },
      "source": [
        "Существует несколько способов решить эту задачу: можно изучить функцию `zip()`, использовать `enumerate()`, `range` и `len` или использовать другие методы. Чтобы напечатать имена и значения, вы можете использовать конкатенацию строк (+), форматирование f-строки или другие методы."
      ]
    },
    {
      "cell_type": "code",
      "execution_count": null,
      "metadata": {
        "id": "EQvo0M4aaRyC"
      },
      "outputs": [],
      "source": [
        "# Ваш код"
      ]
    },
    {
      "cell_type": "markdown",
      "metadata": {
        "id": "Ay9bJEh0aRyC"
      },
      "source": [
        "Преобразуйте только что созданный цикл в функцию, которая принимает два списка (прочитанные книги и людей) в качестве аргументов."
      ]
    },
    {
      "cell_type": "code",
      "execution_count": 68,
      "metadata": {
        "id": "4Gv6CdDuaRyC",
        "colab": {
          "base_uri": "https://localhost:8080/"
        },
        "outputId": "ec28a251-f9d3-472b-857e-21b168a0ea84"
      },
      "outputs": [
        {
          "output_type": "stream",
          "name": "stdout",
          "text": [
            "Krishnang прочитал 12 книг\n",
            "Steve прочитал 6 книг\n",
            "Jimmy не читал ни одной книги!\n",
            "Mary прочитал 7 книг\n",
            "Divya прочитал 4 книг\n",
            "Robert прочитал 10 книг\n",
            "Yulia прочитал 15 книг\n"
          ]
        }
      ],
      "source": [
        "def display_books(people, books_read):\n",
        "    for person, books in zip(people, books_read):\n",
        "        if books == 0:\n",
        "            print(f'{person} не читал ни одной книги!')\n",
        "        else:\n",
        "            print(f'{person} прочитал {books} книг')\n",
        "\n",
        "people = ['Krishnang', 'Steve', 'Jimmy', 'Mary', 'Divya', 'Robert', 'Yulia']\n",
        "books_read = [12, 6, 0, 7, 4, 10, 15]\n",
        "\n",
        "display_books(people, books_read)\n"
      ]
    },
    {
      "cell_type": "markdown",
      "metadata": {
        "id": "ZbcPxMrtaRyC"
      },
      "source": [
        "Отсортируйте значения `books_read` от большего к меньшему и выведите трех первых людей с количеством прочитанных ими книг. Некоторые возможные способы решения этой задачи включают использование сортировки аргументов `NumPy`, создание словаря и создание кортежей."
      ]
    },
    {
      "cell_type": "code",
      "execution_count": 69,
      "metadata": {
        "id": "hm9y-nYVaRyC",
        "colab": {
          "base_uri": "https://localhost:8080/"
        },
        "outputId": "ef3c5a6a-3d52-46fc-9462-eb821a61b59a"
      },
      "outputs": [
        {
          "output_type": "stream",
          "name": "stdout",
          "text": [
            "Yulia прочитал 15 книг\n",
            "Krishnang прочитал 12 книг\n",
            "Robert прочитал 10 книг\n"
          ]
        }
      ],
      "source": [
        "people_books = list(zip(people, books_read))\n",
        "\n",
        "sorted_people_books = sorted(people_books, key=lambda x: x[1], reverse=True)\n",
        "\n",
        "for person, books in sorted_people_books[:3]:\n",
        "    print(f'{person} прочитал {books} книг')\n"
      ]
    }
  ],
  "metadata": {
    "colab": {
      "provenance": [],
      "include_colab_link": true
    },
    "kernelspec": {
      "display_name": "Python 3 (ipykernel)",
      "language": "python",
      "name": "python3"
    },
    "language_info": {
      "codemirror_mode": {
        "name": "ipython",
        "version": 3
      },
      "file_extension": ".py",
      "mimetype": "text/x-python",
      "name": "python",
      "nbconvert_exporter": "python",
      "pygments_lexer": "ipython3",
      "version": "3.9.13"
    }
  },
  "nbformat": 4,
  "nbformat_minor": 0
}