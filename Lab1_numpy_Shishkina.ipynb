{
  "nbformat": 4,
  "nbformat_minor": 0,
  "metadata": {
    "colab": {
      "name": "Lab1_numpy_Shishkina",
      "provenance": []
    },
    "kernelspec": {
      "name": "python3",
      "display_name": "Python 3"
    },
    "language_info": {
      "name": "python"
    }
  },
  "cells": [
    {
      "cell_type": "code",
      "source": [
        "1.1\n",
        "\n",
        "import numpy as np\n",
        "n = int(input())\n",
        "z = np.zeros((1, n))\n",
        "print(z)"
      ],
      "metadata": {
        "colab": {
          "base_uri": "https://localhost:8080/"
        },
        "id": "8Wk6JSY-mY0d",
        "outputId": "63df8fe7-19ea-4eac-e489-d5d6982f4632"
      },
      "execution_count": 2,
      "outputs": [
        {
          "output_type": "stream",
          "name": "stdout",
          "text": [
            "5\n",
            "[[0. 0. 0. 0. 0.]]\n"
          ]
        }
      ]
    },
    {
      "cell_type": "markdown",
      "source": [
        "1.2. Посчитайте размер матрицы Z в байтах и выведите его на печать. Чтобы узнать размер (в байтах) 1 элемента матрицы используйте\n",
        "атрибут https://docs.scipy.org/doc/numpy1.15.1/reference/generated/numpy.ndarray.itemsize.html"
      ],
      "metadata": {
        "id": "_X1FyQ4vnDKC"
      }
    },
    {
      "cell_type": "code",
      "source": [
        "import numpy as np\n",
        "\n",
        "a = np.zeros((10,10))\n",
        "print(a.size * a.itemsize)\n",
        "b = np.array([1,2,3], dtype=np.float64)\n",
        "print(b.size * b.itemsize)"
      ],
      "metadata": {
        "colab": {
          "base_uri": "https://localhost:8080/"
        },
        "id": "MhbwphX8m7o6",
        "outputId": "05d106fb-a877-408b-86d4-9152d61162a1"
      },
      "execution_count": 3,
      "outputs": [
        {
          "output_type": "stream",
          "name": "stdout",
          "text": [
            "800\n",
            "24\n"
          ]
        }
      ]
    },
    {
      "cell_type": "markdown",
      "source": [
        "1.3. Считайте 2 числа:\n",
        " n - размер Numpy вектора\n",
        " x - координата элемента вектора, который должен быть равен 1. Остальные элементы вектора\n",
        "должны быть равны 0. Сохраните вектор в переменную Z."
      ],
      "metadata": {
        "id": "SK2qAW_dnckX"
      }
    },
    {
      "cell_type": "code",
      "source": [
        "import numpy as np\n",
        "\n",
        "n = int(input(\"n = \"))\n",
        "x = int(input(\"x = \"))\n",
        "z = np.zeros(n)\n",
        "z[x]=1\n",
        "print(z)"
      ],
      "metadata": {
        "colab": {
          "base_uri": "https://localhost:8080/"
        },
        "id": "obbe0PJRoRRN",
        "outputId": "5fd7129d-b472-463a-833d-e90c1eedc8c8"
      },
      "execution_count": 10,
      "outputs": [
        {
          "output_type": "stream",
          "name": "stdout",
          "text": [
            "n= 10\n",
            "x= 4\n",
            "[0. 0. 0. 0. 1. 0. 0. 0. 0. 0.]\n"
          ]
        }
      ]
    },
    {
      "cell_type": "markdown",
      "source": [
        "1.4. Считайте 2 числа n, m. Создайте вектор Z состоящий из чисел от n до m с шагом 1."
      ],
      "metadata": {
        "id": "-IXGf4rqowyV"
      }
    },
    {
      "cell_type": "code",
      "source": [
        "import numpy as np\n",
        "\n",
        "n = int(input(\"n = \"))\n",
        "m = int(input(\"m = \"))\n",
        "if n>m:\n",
        "  z = np.arange(n, m-1, -1)\n",
        "else:\n",
        "  z = np.arange(n, m+1, 1)\n",
        "print(z)"
      ],
      "metadata": {
        "colab": {
          "base_uri": "https://localhost:8080/"
        },
        "id": "h4c2wDGToxdR",
        "outputId": "82992f9e-7831-479c-ca15-8bf7658d7060"
      },
      "execution_count": 11,
      "outputs": [
        {
          "output_type": "stream",
          "name": "stdout",
          "text": [
            "n = 10\n",
            "m = 50\n",
            "[10 11 12 13 14 15 16 17 18 19 20 21 22 23 24 25 26 27 28 29 30 31 32 33\n",
            " 34 35 36 37 38 39 40 41 42 43 44 45 46 47 48 49 50]\n"
          ]
        }
      ]
    },
    {
      "cell_type": "markdown",
      "source": [
        "1.5. Дан вектор Z. \"Разверните\" его."
      ],
      "metadata": {
        "id": "WdOP_ERapEnZ"
      }
    },
    {
      "cell_type": "code",
      "source": [
        "import numpy as np\n",
        "\n",
        "z = np.array([1, 2, 3, 4])\n",
        "z = z[::-1]\n",
        "print(z)"
      ],
      "metadata": {
        "colab": {
          "base_uri": "https://localhost:8080/"
        },
        "id": "kiLqyIoPpFLy",
        "outputId": "e428b92b-e508-4a0d-de65-dd4da534f824"
      },
      "execution_count": 13,
      "outputs": [
        {
          "output_type": "stream",
          "name": "stdout",
          "text": [
            "[4 3 2 1]\n"
          ]
        }
      ]
    },
    {
      "cell_type": "markdown",
      "source": [
        "1.6. Считайте 3 числа:\n",
        "\n",
        " n - количество элементов матрицы\n",
        "\n",
        " m и k - размеры матрицы (число строк и столбцов соответственно)\n",
        "Заполните матрицу Z числами от 0 до n-1 по порядку (сперва строки, потом столбцы).\n",
        "\n",
        "Гарантируется, что m*k = n, т.е. все элементы \"влезут\" в матрицу и не останется пустых мест."
      ],
      "metadata": {
        "id": "d-hPK_EspO-f"
      }
    },
    {
      "cell_type": "code",
      "source": [
        "import numpy as np\n",
        "\n",
        "n = int(input(\" \"))\n",
        "m, k = map(int, input().split())\n",
        "z = np.arange(n).reshape(m,k)\n",
        "\n",
        "print(z)"
      ],
      "metadata": {
        "colab": {
          "base_uri": "https://localhost:8080/"
        },
        "id": "RokZ3fK4pT2b",
        "outputId": "30409835-b6f1-431d-9a87-0f48f6c06000"
      },
      "execution_count": 17,
      "outputs": [
        {
          "output_type": "stream",
          "name": "stdout",
          "text": [
            " 6\n",
            "2 3\n",
            "[[0 1 2]\n",
            " [3 4 5]]\n"
          ]
        }
      ]
    },
    {
      "cell_type": "markdown",
      "source": [
        "1.7. Дан вектор Z. Запишите в переменную NonZerros индексы ненулевых элементов.\n",
        "Используйте\n",
        "функцию https://docs.scipy.org/doc/numpy1.15.0/reference/generated/numpy.nonzero.html"
      ],
      "metadata": {
        "id": "ECXipvNMqiya"
      }
    },
    {
      "cell_type": "code",
      "source": [
        "import numpy as np\n",
        "\n",
        "z = np.array([1, 0, 2, 0, 3, 0, 4])\n",
        "n = np.nonzero(z)\n",
        "print(n)"
      ],
      "metadata": {
        "colab": {
          "base_uri": "https://localhost:8080/"
        },
        "id": "7iFCZAKaqjUX",
        "outputId": "c4785c69-e423-46ba-c608-f5386e674e05"
      },
      "execution_count": 18,
      "outputs": [
        {
          "output_type": "stream",
          "name": "stdout",
          "text": [
            "(array([0, 2, 4, 6]),)\n"
          ]
        }
      ]
    },
    {
      "cell_type": "markdown",
      "source": [
        "1.8. Считайте число n. Создайте единичную матрицу размера n, сохраните результат в переменную Z."
      ],
      "metadata": {
        "id": "tuzzwM3pq3_h"
      }
    },
    {
      "cell_type": "code",
      "source": [
        "import numpy as np\n",
        "\n",
        "n = int(input(\" \"))\n",
        "z = np.eye(n)\n",
        "print(z)"
      ],
      "metadata": {
        "colab": {
          "base_uri": "https://localhost:8080/"
        },
        "id": "hte05qFpq5Be",
        "outputId": "529cadab-97dc-4e5e-d3bd-670594aa3cdc"
      },
      "execution_count": 19,
      "outputs": [
        {
          "output_type": "stream",
          "name": "stdout",
          "text": [
            " 3\n",
            "[[1. 0. 0.]\n",
            " [0. 1. 0.]\n",
            " [0. 0. 1.]]\n"
          ]
        }
      ]
    },
    {
      "cell_type": "markdown",
      "source": [
        "1.9 Считайте 3 числа: n, m, l.. Зафиксируйте значение генератора случайных чисел Numpy с помощью numpy.random.seed(42) . Создайте матрицу n*m*l из случайных чисел (от 0 до 1) и сохраните результат в переменную Z."
      ],
      "metadata": {
        "id": "36e6imNPrIEc"
      }
    },
    {
      "cell_type": "code",
      "source": [
        "import numpy as np\n",
        "\n",
        "np.random.seed(42)\n",
        "n, m, l = map(int, input().split())\n",
        "z = np.random.sample(n*(m,l))\n",
        "print(z)\n"
      ],
      "metadata": {
        "colab": {
          "base_uri": "https://localhost:8080/"
        },
        "id": "4U3c_IAMrI2U",
        "outputId": "2024444c-1461-4132-e192-4aaff6fce02e"
      },
      "execution_count": 21,
      "outputs": [
        {
          "output_type": "stream",
          "name": "stdout",
          "text": [
            "2 2 2\n",
            "[[[[0.37454012 0.95071431]\n",
            "   [0.73199394 0.59865848]]\n",
            "\n",
            "  [[0.15601864 0.15599452]\n",
            "   [0.05808361 0.86617615]]]\n",
            "\n",
            "\n",
            " [[[0.60111501 0.70807258]\n",
            "   [0.02058449 0.96990985]]\n",
            "\n",
            "  [[0.83244264 0.21233911]\n",
            "   [0.18182497 0.18340451]]]]\n"
          ]
        }
      ]
    },
    {
      "cell_type": "markdown",
      "source": [
        " 1.10. Считайте 2 числа: n, m. Зафиксируйте значение генератора случайных чисел Numpy с помощью   . Создайте матрицу n*m из случайных чисел (от 0 до 1).\n",
        "numpy.random.seed(42)\n",
        "4\n",
        "Выведите на печать значение минимального и максимального чисел в получившейся матрице (каждое с новой строки)."
      ],
      "metadata": {
        "id": "Zn4d2jo1rzyh"
      }
    },
    {
      "cell_type": "code",
      "source": [
        "import numpy as np\n",
        "\n",
        "n, m = map(int, input().split())\n",
        "np.random.seed(42)\n",
        "z = np.random.sample((n,m))\n",
        "print(z.min())\n",
        "print(z.max())"
      ],
      "metadata": {
        "colab": {
          "base_uri": "https://localhost:8080/"
        },
        "id": "G7AKEcvIr03J",
        "outputId": "354c34ef-9192-4e89-d4ad-dab2fcd31033"
      },
      "execution_count": 22,
      "outputs": [
        {
          "output_type": "stream",
          "name": "stdout",
          "text": [
            "10 10\n",
            "0.005522117123602399\n",
            "0.9868869366005173\n"
          ]
        }
      ]
    },
    {
      "cell_type": "markdown",
      "source": [
        "1.11. Считайте 2 числа: n, m. Зафиксируйте значение генератора случайных чисел Numpy с помощью numpy.random.seed(42).Создайте матрицу n*m из случайных чисел (от 0 до 1). Выведите на печать значение среднего для всей матрицы."
      ],
      "metadata": {
        "id": "ZQYlk7MQsS8P"
      }
    },
    {
      "cell_type": "code",
      "source": [
        "import numpy as np\n",
        "\n",
        "n, m = map(int, input().split())\n",
        "np.random.seed(42)\n",
        "z = np.random.sample((n,m))\n",
        "print(z.sum()/z.size)"
      ],
      "metadata": {
        "colab": {
          "base_uri": "https://localhost:8080/"
        },
        "id": "Jqe8SH3bsTt9",
        "outputId": "a5b28c81-3b6a-4571-ed14-bd399a307a86"
      },
      "execution_count": 23,
      "outputs": [
        {
          "output_type": "stream",
          "name": "stdout",
          "text": [
            "30 30\n",
            "0.4923750160905882\n"
          ]
        }
      ]
    },
    {
      "cell_type": "markdown",
      "source": [
        "1.12. Переменные A и B содержат по numpy вектору. Найдите их скалярное произведение и сохраните в переменную Z.\n",
        "A и B могут содержать как int, так и float."
      ],
      "metadata": {
        "id": "HbZaVWFjsvl3"
      }
    },
    {
      "cell_type": "code",
      "source": [
        "import numpy as np\n",
        "\n",
        "A = np.array([1.5, 2.5, 3.5]) \n",
        "B = np.array([4, 5, 6])\n",
        "z = np.zeros(A.size)\n",
        "\n",
        "for i in range(A.size):\n",
        "  z[i] = A[i] * B[i]\n",
        "  \n",
        "print(z.sum())"
      ],
      "metadata": {
        "colab": {
          "base_uri": "https://localhost:8080/"
        },
        "id": "Rb4MO6lEsbGb",
        "outputId": "474f35ed-fab1-45a8-e36e-f79870eaaef8"
      },
      "execution_count": 24,
      "outputs": [
        {
          "output_type": "stream",
          "name": "stdout",
          "text": [
            "39.5\n"
          ]
        }
      ]
    },
    {
      "cell_type": "markdown",
      "source": [
        "1.13. Даны 2 матрицы: A и B. Найдите произведение матриц и сохраните его в переменную Z. Если найти произведение матриц невозможно, то запишите в Z строку:"
      ],
      "metadata": {
        "id": "jZH8Boo1tmYv"
      }
    },
    {
      "cell_type": "code",
      "source": [
        "import numpy as np\n"
      ],
      "metadata": {
        "id": "1nUOdQOTscnP"
      },
      "execution_count": null,
      "outputs": []
    },
    {
      "cell_type": "markdown",
      "source": [
        "1.14. Поменяйте знак всех чисел из интервала (3; 9), хранящихся в векторе Z."
      ],
      "metadata": {
        "id": "wM1tz6MBuooN"
      }
    },
    {
      "cell_type": "code",
      "source": [
        "import numpy as np\n",
        "\n",
        "z = np.arange(11)\n",
        "for i in range(z.size):\n",
        "  if z[i] > 3 and z[i] < 9:\n",
        "    z[i] = z[i] * -1\n",
        "  else:\n",
        "    pass\n",
        "print(z)"
      ],
      "metadata": {
        "colab": {
          "base_uri": "https://localhost:8080/"
        },
        "id": "a-lj8UQasc7W",
        "outputId": "1e622f46-f34c-451d-d130-a46a01fdefbc"
      },
      "execution_count": 29,
      "outputs": [
        {
          "output_type": "stream",
          "name": "stdout",
          "text": [
            "[ 0  1  2  3 -4 -5 -6 -7 -8  9 10]\n"
          ]
        }
      ]
    },
    {
      "cell_type": "markdown",
      "source": [
        "1.15.Подсчитать произведение ненулевых элементов на диагонали прямоугольной матрицы. Для X = np.array([[1, 0, 1], [2, 0, 2], [3, 0, 3], [4, 4, 4]]) ответ 3."
      ],
      "metadata": {
        "id": "cXf5p7uturDS"
      }
    },
    {
      "cell_type": "code",
      "source": [
        "import numpy as np\n",
        "X = np.array([[1, 0, 1],[2, 0, 2],[3, 0, 3],[4, 4, 4]])\n",
        "count = 1\n",
        "for i in range(min(X.shape)):\n",
        "  if X[i,i] == 0:\n",
        "    pass\n",
        "  else:\n",
        "    c = count*X[i,i]\n",
        "print(c)"
      ],
      "metadata": {
        "colab": {
          "base_uri": "https://localhost:8080/"
        },
        "id": "Y02ea-WosdU1",
        "outputId": "ee25bc4f-412d-48d6-9acf-f4989673bf12"
      },
      "execution_count": 30,
      "outputs": [
        {
          "output_type": "stream",
          "name": "stdout",
          "text": [
            "3\n"
          ]
        }
      ]
    },
    {
      "cell_type": "markdown",
      "source": [
        "?"
      ],
      "metadata": {
        "id": "xVPSK8tPvYFN"
      }
    },
    {
      "cell_type": "markdown",
      "source": [
        "1.16. Считайте число n. Создайте в переменной Z Numpy вектор из нулей длины n."
      ],
      "metadata": {
        "id": "lFuYtsl2usrU"
      }
    },
    {
      "cell_type": "code",
      "source": [
        "1.1\n",
        "\n",
        "import numpy as np\n",
        "n = int(input())\n",
        "z = np.zeros((1, n))\n",
        "print(z)"
      ],
      "metadata": {
        "id": "5S-u-NuvwWrD"
      },
      "execution_count": null,
      "outputs": []
    },
    {
      "cell_type": "markdown",
      "source": [
        "1.17. Посчитайте размер матрицы Z в байтах и выведите его на печать. Чтобы узнать размер (в байтах) 1 элемента матрицы используйте\n",
        "атрибут https://docs.scipy.org/doc/numpy1.15.1/reference/generated/numpy.ndarray.itemsize.html"
      ],
      "metadata": {
        "id": "J9QiqWSeuugh"
      }
    },
    {
      "cell_type": "code",
      "source": [
        "import numpy as np\n",
        "\n",
        "a = np.zeros((10,10))\n",
        "print(a.size * a.itemsize)\n",
        "b = np.array([1,2,3], dtype=np.float64)\n",
        "print(b.size * b.itemsize)"
      ],
      "metadata": {
        "id": "zVhvGtz5waxf"
      },
      "execution_count": null,
      "outputs": []
    },
    {
      "cell_type": "markdown",
      "source": [
        "1.18. Считайте 2 числа:\n",
        " n - размер Numpy вектора\n",
        " x - координата элемента вектора, который должен быть равен 1. Остальные элементы вектора\n",
        "должны быть равны 0. Сохраните вектор в переменную Z."
      ],
      "metadata": {
        "id": "JAFHOckGuwon"
      }
    },
    {
      "cell_type": "code",
      "source": [
        "import numpy as np\n",
        "\n",
        "n = int(input(\"n = \"))\n",
        "x = int(input(\"x = \"))\n",
        "z = np.zeros(n)\n",
        "z[x]=1\n",
        "print(z)"
      ],
      "metadata": {
        "id": "ig-1bPVhwfuM"
      },
      "execution_count": null,
      "outputs": []
    },
    {
      "cell_type": "markdown",
      "source": [
        "1.19. Считайте 2 числа n, m. Создайте вектор Z состоящий из чисел от n до m с шагом 1."
      ],
      "metadata": {
        "id": "jdRd87dpu0iJ"
      }
    },
    {
      "cell_type": "code",
      "source": [
        "import numpy as np\n",
        "\n",
        "n = int(input(\"n = \"))\n",
        "m = int(input(\"m = \"))\n",
        "if n>m:\n",
        "  z = np.arange(n, m-1, -1)\n",
        "else:\n",
        "  z = np.arange(n, m+1, 1)\n",
        "print(z)"
      ],
      "metadata": {
        "id": "kpFFsQ6QwgMW"
      },
      "execution_count": null,
      "outputs": []
    },
    {
      "cell_type": "markdown",
      "source": [
        "1.20. Дан вектор Z. \"Разверните\" его."
      ],
      "metadata": {
        "id": "RXjPZLmIu3T0"
      }
    },
    {
      "cell_type": "code",
      "source": [
        "import numpy as np\n",
        "\n",
        "z = np.array([1, 2, 3, 4])\n",
        "z = z[::-1]\n",
        "print(z)"
      ],
      "metadata": {
        "id": "IglXwKgLwjPM"
      },
      "execution_count": null,
      "outputs": []
    },
    {
      "cell_type": "markdown",
      "source": [
        "1.21. Считайте 3 числа:\n",
        " n - количество элементов матрицы\n",
        " m и k - размеры матрицы (число строк и столбцов соответственно)\n",
        "Заполните матрицу Z числами от 0 до n-1 по порядку (сперва строки, потом столбцы).\n",
        "Гарантируется, что m*k = n, т.е. все элементы \"влезут\" в матрицу и не останется пустых мест."
      ],
      "metadata": {
        "id": "4xDUhzE6u8lk"
      }
    },
    {
      "cell_type": "code",
      "source": [
        "import numpy as np\n",
        "\n",
        "n = int(input(\" \"))\n",
        "m, k = map(int, input().split())\n",
        "z = np.arange(n).reshape(m,k)\n",
        "\n",
        "print(z)"
      ],
      "metadata": {
        "id": "VfpVhxVkwmRH"
      },
      "execution_count": null,
      "outputs": []
    },
    {
      "cell_type": "markdown",
      "source": [
        "1.22. Дан вектор Z. Запишите в переменную NonZerros индексы ненулевых элементов.\n",
        "Используйте\n",
        "функцию https://docs.scipy.org/doc/numpy1.15.0/reference/generated/numpy.nonzero.html Примечание. В этой задаче не нужно ничего считывать или выводить на печать. Матрица Z уже готова, просто создайте NonZerros."
      ],
      "metadata": {
        "id": "upRBq7vDu_qr"
      }
    },
    {
      "cell_type": "code",
      "source": [
        "import numpy as np\n",
        "\n",
        "z = np.array([1, 0, 2, 0, 3, 0, 4])\n",
        "n = np.nonzero(z)\n",
        "print(n)"
      ],
      "metadata": {
        "id": "BvHyHIQ9wusZ"
      },
      "execution_count": null,
      "outputs": []
    },
    {
      "cell_type": "markdown",
      "source": [
        "1.23. Считайте число n. Создайте единичную матрицу размера n, сохраните результат в переменную Z."
      ],
      "metadata": {
        "id": "-5ZQjqjOvCqZ"
      }
    },
    {
      "cell_type": "code",
      "source": [
        "import numpy as np\n",
        "\n",
        "n = int(input(\" \"))\n",
        "z = np.eye(n)\n",
        "print(z)"
      ],
      "metadata": {
        "id": "TfazeRUjwxT2"
      },
      "execution_count": null,
      "outputs": []
    },
    {
      "cell_type": "markdown",
      "source": [
        "1.24. Считайте 3 числа: n, m, l.. Зафиксируйте значение генератора случайных чисел Numpy с помощью numpy.random.seed(42) . Создайте матрицу n*m*l из случайных чисел (от 0 до 1) и сохраните результат в переменную Z."
      ],
      "metadata": {
        "id": "WrROTdvovEkg"
      }
    },
    {
      "cell_type": "code",
      "source": [
        "import numpy as np\n",
        "\n",
        "np.random.seed(42)\n",
        "n, m, l = map(int, input().split())\n",
        "z = np.random.sample(n*(m,l))\n",
        "print(z)\n"
      ],
      "metadata": {
        "id": "LCLMh8SPw94-"
      },
      "execution_count": null,
      "outputs": []
    },
    {
      "cell_type": "markdown",
      "source": [
        "1.25. Считайте 2 числа: n, m. Зафиксируйте значение генератора случайных чисел Numpy с помощью numpy.random.seed(42). Создайте матрицу n*m из случайных чисел (от 0 до 1). Выведите на печать значение минимального и максимального чисел в получившейся матрице (каждое с новой строки)."
      ],
      "metadata": {
        "id": "8XclAe8tvFKh"
      }
    },
    {
      "cell_type": "code",
      "source": [
        "import numpy as np\n",
        "\n",
        "n, m = map(int, input().split())\n",
        "np.random.seed(42)\n",
        "z = np.random.sample((n,m))\n",
        "print(z.min())\n",
        "print(z.max())"
      ],
      "metadata": {
        "id": "6ddtb0DIxD7b"
      },
      "execution_count": null,
      "outputs": []
    }
  ]
}